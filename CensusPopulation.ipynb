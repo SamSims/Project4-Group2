{
 "cells": [
  {
   "cell_type": "code",
   "execution_count": null,
   "metadata": {},
   "outputs": [],
   "source": [
    "#import dependancies\n",
    "from census import Census\n",
    "import us\n",
    "import pandas as pd"
   ]
  },
  {
   "cell_type": "code",
   "execution_count": null,
   "metadata": {},
   "outputs": [],
   "source": [
    "#Starting variables\n",
    "apikey = \"\"\n",
    "fields = ['NAME', 'B01001_007E', 'B01001_008E']#fields used for census data"
   ]
  },
  {
   "cell_type": "code",
   "execution_count": null,
   "metadata": {},
   "outputs": [],
   "source": [
    "#function to create df of state populations\n",
    "#takes a list of population data and the year\n",
    "#returns a data fram with state populations and the year of the population\n",
    "def create_year_pop_df(ls,year):\n",
    "    #create the df\n",
    "    df = pd.DataFrame(ls)\n",
    "    #create population column\n",
    "    df['Population Over 65'] = df['B01001_007E']+df['B01001_008E']\n",
    "    #create year column\n",
    "    df['Year'] = year\n",
    "    #drop unneeded \"states\"\n",
    "    df.drop(df.index[df['NAME'] == 'District of Columbia'], inplace=True)\n",
    "    df.drop(df.index[df['NAME'] == 'Puerto Rico'], inplace=True)\n",
    "    #order columns and drop unneeded ones\n",
    "    dfother = df[['NAME','state','Population Over 65', 'Year']]\n",
    "    return dfother"
   ]
  },
  {
   "cell_type": "code",
   "execution_count": null,
   "metadata": {},
   "outputs": [],
   "source": [
    "#funtion tocombine all of the year data frames into one dataframe\n",
    "#takes a list of population information\n",
    "#returns a combined dataframe\n",
    "def create_dfs(poy):\n",
    "    #set years of state data\n",
    "    years = [y for y in range(2014,2024)]\n",
    "    #create starting df\n",
    "    df1 = create_year_pop_df(poy[0],2014)\n",
    "    #loop through the years of dataframes\n",
    "    for x in range(1,len(years)):\n",
    "        #create dataframe\n",
    "        df2 = create_year_pop_df(poy[x],years[x])\n",
    "        #concatinate dataframes\n",
    "        df1 = pd.concat([df1,df2])\n",
    "    return(df1)"
   ]
  },
  {
   "cell_type": "code",
   "execution_count": null,
   "metadata": {},
   "outputs": [],
   "source": [
    "#create census instance\n",
    "c = Census(apikey)\n",
    "#create mapping of fips and abbreviation\n",
    "abfips = us.states.mapping('fips','abbr')\n",
    "popsoveryear = []#placeholder for data\n",
    "tracker = 0#keep track of iterations\n",
    "#loop through years for data\n",
    "for y in range(2014,2024):\n",
    "    #pull data from census\n",
    "    popsoveryear.append(c.acs5.get((fields),\n",
    "          {'for': 'state:*'},year = y))\n",
    "    #increment tracker\n",
    "    tracker+=1\n",
    "    #create the dataframe\n",
    "df8 = create_dfs(popsoveryear)\n",
    "#save dataframe\n",
    "df8.to_csv('./CSVs/StatePopulations.csv',header=True,index=False)"
   ]
  }
 ],
 "metadata": {
  "kernelspec": {
   "display_name": "base",
   "language": "python",
   "name": "python3"
  },
  "language_info": {
   "codemirror_mode": {
    "name": "ipython",
    "version": 3
   },
   "file_extension": ".py",
   "mimetype": "text/x-python",
   "name": "python",
   "nbconvert_exporter": "python",
   "pygments_lexer": "ipython3",
   "version": "3.12.3"
  }
 },
 "nbformat": 4,
 "nbformat_minor": 2
}

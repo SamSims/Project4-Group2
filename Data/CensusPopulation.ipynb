{
 "cells": [
  {
   "cell_type": "code",
   "execution_count": 39,
   "metadata": {},
   "outputs": [],
   "source": [
    "from census import Census\n",
    "import us\n",
    "import pandas as pd"
   ]
  },
  {
   "cell_type": "code",
   "execution_count": null,
   "metadata": {},
   "outputs": [],
   "source": [
    "apikey = \"\"\n",
    "fields = ['NAME', 'B01001_007E', 'B01001_008E']"
   ]
  },
  {
   "cell_type": "code",
   "execution_count": 51,
   "metadata": {},
   "outputs": [],
   "source": [
    "def create_year_pop_df(ls,year):\n",
    "    df = pd.DataFrame(ls)\n",
    "    df['Population Over 65'] = df['B01001_007E']+df['B01001_008E']\n",
    "    df['Year'] = year\n",
    "    df.drop(df.index[df['NAME'] == 'District of Columbia'], inplace=True)\n",
    "    df.drop(df.index[df['NAME'] == 'Puerto Rico'], inplace=True)\n",
    "    dfother = df[['NAME','state','Population Over 65', 'Year']]\n",
    "    return dfother"
   ]
  },
  {
   "cell_type": "code",
   "execution_count": 54,
   "metadata": {},
   "outputs": [],
   "source": [
    "def create_dfs(poy):\n",
    "    years = [y for y in range(2014,2024)]\n",
    "    df1 = create_year_pop_df(poy[0],2014)\n",
    "    for x in range(1,len(years)):\n",
    "        df2 = create_year_pop_df(poy[x],years[x])\n",
    "        df1 = pd.concat([df1,df2])\n",
    "    return(df1)"
   ]
  },
  {
   "cell_type": "code",
   "execution_count": 56,
   "metadata": {},
   "outputs": [],
   "source": [
    "c = Census(apikey)\n",
    "abfips = us.states.mapping('fips','abbr')\n",
    "popsoveryear = []\n",
    "tracker = 0\n",
    "for y in range(2014,2024):\n",
    "    popsoveryear.append(c.acs5.get((fields),\n",
    "          {'for': 'state:*'},year = y))\n",
    "    tracker+=1\n",
    "df8 = create_dfs(popsoveryear)\n",
    "df8.to_csv('./Data/StatePopulations.csv',header=True,index=False)"
   ]
  }
 ],
 "metadata": {
  "kernelspec": {
   "display_name": "base",
   "language": "python",
   "name": "python3"
  },
  "language_info": {
   "codemirror_mode": {
    "name": "ipython",
    "version": 3
   },
   "file_extension": ".py",
   "mimetype": "text/x-python",
   "name": "python",
   "nbconvert_exporter": "python",
   "pygments_lexer": "ipython3",
   "version": "3.12.3"
  }
 },
 "nbformat": 4,
 "nbformat_minor": 2
}

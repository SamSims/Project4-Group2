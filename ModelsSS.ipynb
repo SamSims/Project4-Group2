{
 "cells": [
  {
   "cell_type": "code",
   "execution_count": 15,
   "metadata": {},
   "outputs": [],
   "source": [
    "#import dependancies\n",
    "import pandas as pd\n",
    "from sklearn.model_selection import train_test_split\n",
    "from sklearn.ensemble import RandomForestClassifier\n",
    "from sklearn.metrics import accuracy_score\n",
    "import joblib"
   ]
  },
  {
   "cell_type": "code",
   "execution_count": 4,
   "metadata": {},
   "outputs": [],
   "source": [
    "#read in data to run model against\n",
    "finaldf = pd.read_csv(\"./CSVs/FinalData.csv\")"
   ]
  },
  {
   "cell_type": "code",
   "execution_count": 5,
   "metadata": {},
   "outputs": [],
   "source": [
    "#drop catagorical columns\n",
    "finaldf1 = finaldf.copy()\n",
    "finaldf1 = finaldf1.drop(columns=[\"Contract Number\",\"Organization Type\",\"Contract Name\",\"Organization Marketing Name\",\"Parent Organization\"])\n",
    "finaldf1 = pd.get_dummies(finaldf1)"
   ]
  },
  {
   "cell_type": "code",
   "execution_count": 6,
   "metadata": {},
   "outputs": [],
   "source": [
    "# Separate the y variable\n",
    "y = finaldf1[\"Standardized Enrollment\"]\n",
    "# Separate the X variable, the features\n",
    "X = finaldf1.drop(columns=\"Standardized Enrollment\")"
   ]
  },
  {
   "cell_type": "code",
   "execution_count": 7,
   "metadata": {},
   "outputs": [],
   "source": [
    "# Split the data using train_test_split\n",
    "X_train, X_test, y_train, y_test = train_test_split(X,y,random_state=1)"
   ]
  },
  {
   "cell_type": "code",
   "execution_count": 8,
   "metadata": {},
   "outputs": [],
   "source": [
    "# Create the random forest classifier instance\n",
    "rf_model = RandomForestClassifier(n_estimators=500, random_state=78)"
   ]
  },
  {
   "cell_type": "code",
   "execution_count": 9,
   "metadata": {},
   "outputs": [
    {
     "name": "stderr",
     "output_type": "stream",
     "text": [
      "C:\\Users\\samsi\\AppData\\Local\\Temp\\ipykernel_11872\\1622860369.py:2: FutureWarning: Series.ravel is deprecated. The underlying array is already 1D, so ravel is not necessary.  Use `to_numpy()` for conversion to a numpy array instead.\n",
      "  rf_model = rf_model.fit(X_train, y_train.ravel())\n"
     ]
    }
   ],
   "source": [
    "# Fit the model\n",
    "rf_model = rf_model.fit(X_train, y_train.ravel())"
   ]
  },
  {
   "cell_type": "code",
   "execution_count": 10,
   "metadata": {},
   "outputs": [],
   "source": [
    "#create predictions\n",
    "predictions = rf_model.predict(X_test)"
   ]
  },
  {
   "cell_type": "code",
   "execution_count": 11,
   "metadata": {},
   "outputs": [
    {
     "name": "stdout",
     "output_type": "stream",
     "text": [
      "Accuracy Score : 0.7102888086642599\n"
     ]
    }
   ],
   "source": [
    "#test accuracy of the model\n",
    "acc_score = accuracy_score(y_test, predictions)\n",
    "print(f\"Accuracy Score : {acc_score}\")"
   ]
  },
  {
   "cell_type": "code",
   "execution_count": 12,
   "metadata": {},
   "outputs": [
    {
     "data": {
      "text/plain": [
       "[(0.027039949114824356,\n",
       "  'C Osteoporosis Management in Women who had a Fracture'),\n",
       " (0.02527450134872629, 'C Rheumatoid Arthritis Management'),\n",
       " (0.02231341374282398, 'D Members Choosing to Leave the Plan'),\n",
       " (0.018856959507036974, 'D Appeals Upheld'),\n",
       " (0.0185580470284319, 'C Reviewing Appeals Decisions'),\n",
       " (0.017216119381393977,\n",
       "  'C Osteoporosis Management in Women who had a Fracture Non-numeric_Numeric'),\n",
       " (0.015732643930078432, 'D Getting Needed Prescription Drugs'),\n",
       " (0.01521858061400955, 'DD3: Member Experience with the Drug Plan'),\n",
       " (0.015171489728994788, 'HD5: Health Plan Customer Service'),\n",
       " (0.01516747825831993, 'C Care Coordination')]"
      ]
     },
     "execution_count": 12,
     "metadata": {},
     "output_type": "execute_result"
    }
   ],
   "source": [
    "#find importance of features\n",
    "importances = rf_model.feature_importances_\n",
    "#order features based on importance\n",
    "importances_sorted = sorted(zip(rf_model.feature_importances_, X.columns), reverse=True)\n",
    "importances_sorted[:10]"
   ]
  },
  {
   "cell_type": "code",
   "execution_count": 13,
   "metadata": {},
   "outputs": [
    {
     "data": {
      "text/html": [
       "<div>\n",
       "<style scoped>\n",
       "    .dataframe tbody tr th:only-of-type {\n",
       "        vertical-align: middle;\n",
       "    }\n",
       "\n",
       "    .dataframe tbody tr th {\n",
       "        vertical-align: top;\n",
       "    }\n",
       "\n",
       "    .dataframe thead th {\n",
       "        text-align: right;\n",
       "    }\n",
       "</style>\n",
       "<table border=\"1\" class=\"dataframe\">\n",
       "  <thead>\n",
       "    <tr style=\"text-align: right;\">\n",
       "      <th></th>\n",
       "      <th>Weight</th>\n",
       "      <th>Measurement</th>\n",
       "    </tr>\n",
       "  </thead>\n",
       "  <tbody>\n",
       "    <tr>\n",
       "      <th>0</th>\n",
       "      <td>0.027040</td>\n",
       "      <td>C Osteoporosis Management in Women who had a F...</td>\n",
       "    </tr>\n",
       "    <tr>\n",
       "      <th>1</th>\n",
       "      <td>0.025275</td>\n",
       "      <td>C Rheumatoid Arthritis Management</td>\n",
       "    </tr>\n",
       "    <tr>\n",
       "      <th>2</th>\n",
       "      <td>0.022313</td>\n",
       "      <td>D Members Choosing to Leave the Plan</td>\n",
       "    </tr>\n",
       "    <tr>\n",
       "      <th>3</th>\n",
       "      <td>0.018857</td>\n",
       "      <td>D Appeals Upheld</td>\n",
       "    </tr>\n",
       "    <tr>\n",
       "      <th>4</th>\n",
       "      <td>0.018558</td>\n",
       "      <td>C Reviewing Appeals Decisions</td>\n",
       "    </tr>\n",
       "    <tr>\n",
       "      <th>5</th>\n",
       "      <td>0.017216</td>\n",
       "      <td>C Osteoporosis Management in Women who had a F...</td>\n",
       "    </tr>\n",
       "    <tr>\n",
       "      <th>6</th>\n",
       "      <td>0.015733</td>\n",
       "      <td>D Getting Needed Prescription Drugs</td>\n",
       "    </tr>\n",
       "    <tr>\n",
       "      <th>7</th>\n",
       "      <td>0.015219</td>\n",
       "      <td>DD3: Member Experience with the Drug Plan</td>\n",
       "    </tr>\n",
       "    <tr>\n",
       "      <th>8</th>\n",
       "      <td>0.015171</td>\n",
       "      <td>HD5: Health Plan Customer Service</td>\n",
       "    </tr>\n",
       "    <tr>\n",
       "      <th>9</th>\n",
       "      <td>0.015167</td>\n",
       "      <td>C Care Coordination</td>\n",
       "    </tr>\n",
       "  </tbody>\n",
       "</table>\n",
       "</div>"
      ],
      "text/plain": [
       "     Weight                                        Measurement\n",
       "0  0.027040  C Osteoporosis Management in Women who had a F...\n",
       "1  0.025275                  C Rheumatoid Arthritis Management\n",
       "2  0.022313               D Members Choosing to Leave the Plan\n",
       "3  0.018857                                   D Appeals Upheld\n",
       "4  0.018558                      C Reviewing Appeals Decisions\n",
       "5  0.017216  C Osteoporosis Management in Women who had a F...\n",
       "6  0.015733                D Getting Needed Prescription Drugs\n",
       "7  0.015219          DD3: Member Experience with the Drug Plan\n",
       "8  0.015171                  HD5: Health Plan Customer Service\n",
       "9  0.015167                                C Care Coordination"
      ]
     },
     "execution_count": 13,
     "metadata": {},
     "output_type": "execute_result"
    }
   ],
   "source": [
    "#create dataframe of importances\n",
    "importancedf = pd.DataFrame(importances_sorted)\n",
    "#label columns\n",
    "importancedf = importancedf.rename(columns={0:\"Weight\",1:\"Measurement\"})\n",
    "importancedf.head(10)"
   ]
  },
  {
   "cell_type": "code",
   "execution_count": 16,
   "metadata": {},
   "outputs": [
    {
     "data": {
      "text/plain": [
       "['./Models/RandomForestEnrollment.joblib']"
      ]
     },
     "execution_count": 16,
     "metadata": {},
     "output_type": "execute_result"
    }
   ],
   "source": [
    "joblib.dump(rf_model,\"./Models/RandomForestEnrollment.joblib\")"
   ]
  },
  {
   "cell_type": "code",
   "execution_count": null,
   "metadata": {},
   "outputs": [],
   "source": [
    "#export wieght of columns\n",
    "importancedf.to_csv(\"./CSVs/RandomforestWeights.csv\",header=True,index=False)"
   ]
  }
 ],
 "metadata": {
  "kernelspec": {
   "display_name": "base",
   "language": "python",
   "name": "python3"
  },
  "language_info": {
   "codemirror_mode": {
    "name": "ipython",
    "version": 3
   },
   "file_extension": ".py",
   "mimetype": "text/x-python",
   "name": "python",
   "nbconvert_exporter": "python",
   "pygments_lexer": "ipython3",
   "version": "3.12.3"
  }
 },
 "nbformat": 4,
 "nbformat_minor": 2
}

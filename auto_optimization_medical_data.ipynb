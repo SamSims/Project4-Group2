{
 "cells": [
  {
   "cell_type": "code",
   "execution_count": 2,
   "metadata": {
    "colab": {
     "base_uri": "https://localhost:8080/"
    },
    "id": "BT51SDCTX1JS",
    "outputId": "3dbe059a-a692-4157-89cb-c64e5652d8b9"
   },
   "outputs": [
    {
     "name": "stdout",
     "output_type": "stream",
     "text": [
      "Requirement already satisfied: keras-tuner in /Users/schari/anaconda3/lib/python3.12/site-packages (1.4.7)\n",
      "Requirement already satisfied: keras in /Users/schari/anaconda3/lib/python3.12/site-packages (from keras-tuner) (3.8.0)\n",
      "Requirement already satisfied: packaging in /Users/schari/anaconda3/lib/python3.12/site-packages (from keras-tuner) (23.2)\n",
      "Requirement already satisfied: requests in /Users/schari/anaconda3/lib/python3.12/site-packages (from keras-tuner) (2.32.2)\n",
      "Requirement already satisfied: kt-legacy in /Users/schari/anaconda3/lib/python3.12/site-packages (from keras-tuner) (1.0.5)\n",
      "Requirement already satisfied: absl-py in /Users/schari/anaconda3/lib/python3.12/site-packages (from keras->keras-tuner) (2.1.0)\n",
      "Requirement already satisfied: numpy in /Users/schari/anaconda3/lib/python3.12/site-packages (from keras->keras-tuner) (1.26.4)\n",
      "Requirement already satisfied: rich in /Users/schari/anaconda3/lib/python3.12/site-packages (from keras->keras-tuner) (13.3.5)\n",
      "Requirement already satisfied: namex in /Users/schari/anaconda3/lib/python3.12/site-packages (from keras->keras-tuner) (0.0.8)\n",
      "Requirement already satisfied: h5py in /Users/schari/anaconda3/lib/python3.12/site-packages (from keras->keras-tuner) (3.11.0)\n",
      "Requirement already satisfied: optree in /Users/schari/anaconda3/lib/python3.12/site-packages (from keras->keras-tuner) (0.14.0)\n",
      "Requirement already satisfied: ml-dtypes in /Users/schari/anaconda3/lib/python3.12/site-packages (from keras->keras-tuner) (0.4.1)\n",
      "Requirement already satisfied: charset-normalizer<4,>=2 in /Users/schari/anaconda3/lib/python3.12/site-packages (from requests->keras-tuner) (2.0.4)\n",
      "Requirement already satisfied: idna<4,>=2.5 in /Users/schari/anaconda3/lib/python3.12/site-packages (from requests->keras-tuner) (3.7)\n",
      "Requirement already satisfied: urllib3<3,>=1.21.1 in /Users/schari/anaconda3/lib/python3.12/site-packages (from requests->keras-tuner) (2.2.2)\n",
      "Requirement already satisfied: certifi>=2017.4.17 in /Users/schari/anaconda3/lib/python3.12/site-packages (from requests->keras-tuner) (2024.12.14)\n",
      "Requirement already satisfied: typing-extensions>=4.5.0 in /Users/schari/anaconda3/lib/python3.12/site-packages (from optree->keras->keras-tuner) (4.11.0)\n",
      "Requirement already satisfied: markdown-it-py<3.0.0,>=2.2.0 in /Users/schari/anaconda3/lib/python3.12/site-packages (from rich->keras->keras-tuner) (2.2.0)\n",
      "Requirement already satisfied: pygments<3.0.0,>=2.13.0 in /Users/schari/anaconda3/lib/python3.12/site-packages (from rich->keras->keras-tuner) (2.15.1)\n",
      "Requirement already satisfied: mdurl~=0.1 in /Users/schari/anaconda3/lib/python3.12/site-packages (from markdown-it-py<3.0.0,>=2.2.0->rich->keras->keras-tuner) (0.1.0)\n"
     ]
    }
   ],
   "source": [
    "!pip install keras-tuner"
   ]
  },
  {
   "cell_type": "code",
   "execution_count": 6,
   "metadata": {
    "id": "cpGfP9yvX1JT"
   },
   "outputs": [],
   "source": [
    "# Import our dependencies\n",
    "import pandas as pd\n",
    "import matplotlib.pyplot as plt\n",
    "import sklearn as skl\n",
    "import tensorflow as tf\n",
    "\n",
    "#read in data for tuner\n",
    "finaldf = pd.read_csv(\"./Data/FinalData.csv\")\n",
    "#drop catagorical columns\n",
    "finaldf1 = finaldf.copy()\n",
    "finaldf1 = finaldf1.drop(columns=[\"Contract Number\",\"Organization Type\",\"Contract Name\",\"Organization Marketing Name\",\"Parent Organization\"])\n",
    "#add dummies\n",
    "finaldf1 = pd.get_dummies(finaldf1)\n",
    "finaldf1['Standardized Enrollment'] = finaldf1['Standardized Enrollment']-1\n",
    "\n",
    "# Separate the y variable\n",
    "y = finaldf1[\"Standardized Enrollment\"]\n",
    "# Separate the X variable, the features\n",
    "X = finaldf1.drop(columns=\"Standardized Enrollment\")\n",
    "\n",
    "# Use sklearn to split dataset\n",
    "from sklearn.model_selection import train_test_split\n",
    "X_train, X_test, y_train, y_test = train_test_split(X, y, random_state=78)\n",
    "\n",
    "# Create scaler instance\n",
    "X_scaler = skl.preprocessing.StandardScaler()\n",
    "\n",
    "# Fit the scaler\n",
    "X_scaler.fit(X_train)\n",
    "\n",
    "# Scale the data\n",
    "X_train_scaled = X_scaler.transform(X_train)\n",
    "X_test_scaled = X_scaler.transform(X_test)"
   ]
  },
  {
   "cell_type": "code",
   "execution_count": 8,
   "metadata": {
    "id": "hx2XkG2CX1JT"
   },
   "outputs": [],
   "source": [
    "# Create a method that creates a new Sequential model with hyperparameter options\n",
    "def create_model(hp):\n",
    "    nn_model = tf.keras.models.Sequential()\n",
    "\n",
    "    # Allow kerastuner to decide which activation function to use in hidden layers\n",
    "    activation = hp.Choice('activation',['relu','tanh','sigmoid','leaky_relu'])\n",
    "\n",
    "    # Allow kerastuner to decide number of neurons in first layer\n",
    "    nn_model.add(tf.keras.layers.Dense(units=hp.Int('first_units',\n",
    "        min_value=1,\n",
    "        max_value=10,\n",
    "        step=2), activation=activation, input_dim=417))\n",
    "\n",
    "    # Allow kerastuner to decide number of hidden layers and neurons in hidden layers\n",
    "    for i in range(hp.Int('num_layers', 1, 6)):\n",
    "        nn_model.add(tf.keras.layers.Dense(units=hp.Int('units_' + str(i),\n",
    "            min_value=1,\n",
    "            max_value=10,\n",
    "            step=2),\n",
    "            activation=activation))\n",
    "\n",
    "    nn_model.add(tf.keras.layers.Dense(units=1, activation=\"sigmoid\"))\n",
    "\n",
    "    # Compile the model\n",
    "    nn_model.compile(loss=\"binary_crossentropy\", optimizer='adam', metrics=[\"accuracy\"])\n",
    "\n",
    "    return nn_model"
   ]
  },
  {
   "cell_type": "code",
   "execution_count": 9,
   "metadata": {
    "id": "DftqalspX1JT"
   },
   "outputs": [
    {
     "name": "stderr",
     "output_type": "stream",
     "text": [
      "c:\\Users\\samsi\\anaconda3\\Lib\\site-packages\\keras\\src\\layers\\core\\dense.py:87: UserWarning: Do not pass an `input_shape`/`input_dim` argument to a layer. When using Sequential models, prefer using an `Input(shape)` object as the first layer in the model instead.\n",
      "  super().__init__(activity_regularizer=activity_regularizer, **kwargs)\n"
     ]
    }
   ],
   "source": [
    "# Import the keras-tuner library\n",
    "import keras_tuner as kt\n",
    "tuner = kt.Hyperband(\n",
    "    create_model, \n",
    "    seed=42,\n",
    "    objective=\"val_accuracy\",\n",
    "    max_epochs=20,\n",
    "    hyperband_iterations=2,\n",
    "    directory=\"tune_dir\",\n",
    "    project_name=\"tensorworld\",)"
   ]
  },
  {
   "cell_type": "code",
   "execution_count": 10,
   "metadata": {
    "colab": {
     "base_uri": "https://localhost:8080/"
    },
    "id": "IbVFBYIEX1JT",
    "outputId": "ec36244d-ed53-4634-a188-4dcad9ba12c3"
   },
   "outputs": [
    {
     "name": "stdout",
     "output_type": "stream",
     "text": [
      "Trial 60 Complete [00h 00m 07s]\n",
      "val_accuracy: 0.7129963636398315\n",
      "\n",
      "Best val_accuracy So Far: 0.7265343070030212\n",
      "Total elapsed time: 00h 04m 09s\n"
     ]
    }
   ],
   "source": [
    "# Run the kerastuner search for best hyperparameters\n",
    "tuner.search(X_train_scaled,y_train,epochs=20,validation_data=(X_test_scaled,y_test))"
   ]
  },
  {
   "cell_type": "code",
   "execution_count": 11,
   "metadata": {
    "colab": {
     "base_uri": "https://localhost:8080/"
    },
    "id": "Js099dMRX1JU",
    "outputId": "bddd1c19-2702-45f2-9ac2-29097e48749a"
   },
   "outputs": [
    {
     "data": {
      "text/plain": [
       "{'activation': 'tanh',\n",
       " 'first_units': 1,\n",
       " 'num_layers': 4,\n",
       " 'units_0': 1,\n",
       " 'units_1': 9,\n",
       " 'units_2': 9,\n",
       " 'units_3': 3,\n",
       " 'units_4': 7,\n",
       " 'units_5': 7,\n",
       " 'tuner/epochs': 20,\n",
       " 'tuner/initial_epoch': 0,\n",
       " 'tuner/bracket': 0,\n",
       " 'tuner/round': 0}"
      ]
     },
     "execution_count": 11,
     "metadata": {},
     "output_type": "execute_result"
    }
   ],
   "source": [
    "# Get best model hyperparameters\n",
    "best_hyper = tuner.get_best_hyperparameters(1)[0]\n",
    "best_hyper.values"
   ]
  },
  {
   "cell_type": "code",
   "execution_count": 12,
   "metadata": {
    "colab": {
     "base_uri": "https://localhost:8080/"
    },
    "id": "Z6SY-Kw4X1JU",
    "outputId": "74b557a2-1bd9-4d00-c313-e8d07999dafa"
   },
   "outputs": [
    {
     "name": "stdout",
     "output_type": "stream",
     "text": [
      "35/35 - 0s - 8ms/step - accuracy: 0.7265 - loss: 0.2175\n",
      "Loss: 0.21748434007167816, Accuracy: 0.7265343070030212\n"
     ]
    }
   ],
   "source": [
    "# Evaluate best model against full test data\n",
    "import warnings\n",
    "warnings.filterwarnings(\"ignore\", category=UserWarning)\n",
    "\n",
    "best_model = tuner.get_best_models(1)[0]\n",
    "model_loss, model_accuracy = best_model.evaluate(X_test_scaled,y_test,verbose=2)\n",
    "print(f\"Loss: {model_loss}, Accuracy: {model_accuracy}\")"
   ]
  },
  {
   "cell_type": "code",
   "execution_count": 7,
   "metadata": {
    "id": "5NQwa0O0X1JU"
   },
   "outputs": [],
   "source": []
  }
 ],
 "metadata": {
  "colab": {
   "provenance": []
  },
  "kernelspec": {
   "display_name": "base",
   "language": "python",
   "name": "python3"
  },
  "language_info": {
   "codemirror_mode": {
    "name": "ipython",
    "version": 3
   },
   "file_extension": ".py",
   "mimetype": "text/x-python",
   "name": "python",
   "nbconvert_exporter": "python",
   "pygments_lexer": "ipython3",
   "version": "3.12.3"
  }
 },
 "nbformat": 4,
 "nbformat_minor": 4
}
